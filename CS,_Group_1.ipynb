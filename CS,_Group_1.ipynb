{
  "nbformat": 4,
  "nbformat_minor": 0,
  "metadata": {
    "colab": {
      "provenance": []
    },
    "kernelspec": {
      "name": "python3",
      "display_name": "Python 3"
    },
    "language_info": {
      "name": "python"
    }
  },
  "cells": [
    {
      "cell_type": "code",
      "execution_count": null,
      "metadata": {
        "colab": {
          "base_uri": "https://localhost:8080/"
        },
        "id": "pU2kvgtRCoAJ",
        "outputId": "119cd9fd-50cd-4727-dae7-14a2e76d2581"
      },
      "outputs": [
        {
          "output_type": "stream",
          "name": "stdout",
          "text": [
            "10\n",
            "Adele\n",
            "London Paris\n"
          ]
        }
      ],
      "source": [
        "print(10)\n",
        "print(\"Adele\")\n",
        "print(\"London\",\"Paris\")"
      ]
    },
    {
      "cell_type": "code",
      "source": [
        "print(10*2)"
      ],
      "metadata": {
        "colab": {
          "base_uri": "https://localhost:8080/"
        },
        "id": "j5Y569H6EWBy",
        "outputId": "dd4d27e4-a460-4757-c175-0af42e6c6e70"
      },
      "execution_count": null,
      "outputs": [
        {
          "output_type": "stream",
          "name": "stdout",
          "text": [
            "20\n"
          ]
        }
      ]
    },
    {
      "cell_type": "code",
      "source": [
        "input(\"enter your name: \")"
      ],
      "metadata": {
        "colab": {
          "base_uri": "https://localhost:8080/",
          "height": 52
        },
        "id": "cQvTaUkvEw4G",
        "outputId": "874a70d6-557e-4148-e6c1-6146c18de53f"
      },
      "execution_count": null,
      "outputs": [
        {
          "name": "stdout",
          "output_type": "stream",
          "text": [
            "enter your name: Adèle\n"
          ]
        },
        {
          "output_type": "execute_result",
          "data": {
            "text/plain": [
              "'Adèle'"
            ],
            "application/vnd.google.colaboratory.intrinsic+json": {
              "type": "string"
            }
          },
          "metadata": {},
          "execution_count": 7
        }
      ]
    },
    {
      "cell_type": "code",
      "source": [
        "# Print number 10.10\n",
        "print(10.1000)"
      ],
      "metadata": {
        "colab": {
          "base_uri": "https://localhost:8080/"
        },
        "id": "MC4cvXADFRqK",
        "outputId": "bdd88574-2ab7-413c-8fd7-6aaf92b41b8d"
      },
      "execution_count": null,
      "outputs": [
        {
          "output_type": "stream",
          "name": "stdout",
          "text": [
            "10.1\n"
          ]
        }
      ]
    },
    {
      "cell_type": "code",
      "source": [
        "# X is called variable\n",
        "X = 10.20\n",
        "name = \"Adele\"\n",
        "\n",
        "print(X)\n",
        "print(name)\n",
        "last_name = \"Paris\""
      ],
      "metadata": {
        "colab": {
          "base_uri": "https://localhost:8080/"
        },
        "id": "gpQi-2fwFxxM",
        "outputId": "05768089-deea-43ff-9b7a-871b105949dd"
      },
      "execution_count": null,
      "outputs": [
        {
          "output_type": "stream",
          "name": "stdout",
          "text": [
            "10.2\n",
            "Adele\n"
          ]
        }
      ]
    },
    {
      "cell_type": "code",
      "source": [
        "# Ask the user what is their city\n",
        "# Print the user city\n",
        "# * Use a variable\n",
        "city = input(\"Where are you from: \")\n",
        "print(city)\n"
      ],
      "metadata": {
        "id": "HOTN8oqfGyww"
      },
      "execution_count": null,
      "outputs": []
    },
    {
      "cell_type": "code",
      "source": [
        "# Ask the user what is their city\n",
        "# Ask the user their first name\n",
        "# Print the user name and the user city\n",
        "# * Use a variable\n",
        "city = input(\"Where are you from: \")\n",
        "name = input(\"What is your first name: \")\n",
        "print(name,city)"
      ],
      "metadata": {
        "id": "FMwYLiUTHhJj"
      },
      "execution_count": null,
      "outputs": []
    },
    {
      "cell_type": "code",
      "source": [
        "X = int(input(\"enter a number: \"))\n",
        "y = int(input(\"enter a second number: \"))\n",
        "print (x+y)"
      ],
      "metadata": {
        "id": "JzeZRsMLIVMy"
      },
      "execution_count": null,
      "outputs": []
    },
    {
      "cell_type": "code",
      "source": [],
      "metadata": {
        "id": "ccqm3_vnJXLN"
      },
      "execution_count": null,
      "outputs": []
    },
    {
      "cell_type": "code",
      "source": [],
      "metadata": {
        "id": "gbSIMwHSnkhI"
      },
      "execution_count": null,
      "outputs": []
    },
    {
      "cell_type": "code",
      "source": [],
      "metadata": {
        "id": "5UegNp6PKE59"
      },
      "execution_count": null,
      "outputs": []
    }
  ]
}