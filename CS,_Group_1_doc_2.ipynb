{
  "nbformat": 4,
  "nbformat_minor": 0,
  "metadata": {
    "colab": {
      "provenance": []
    },
    "kernelspec": {
      "name": "python3",
      "display_name": "Python 3"
    },
    "language_info": {
      "name": "python"
    }
  },
  "cells": [
    {
      "cell_type": "code",
      "execution_count": null,
      "metadata": {
        "colab": {
          "base_uri": "https://localhost:8080/"
        },
        "id": "pYg-TmsuIxLA",
        "outputId": "f3adc60a-577e-4fb6-ddae-22a2bfc18e88"
      },
      "outputs": [
        {
          "output_type": "stream",
          "name": "stdout",
          "text": [
            "enter a number: 3\n",
            "enter a second number: 8\n",
            "38\n"
          ]
        }
      ],
      "source": [
        "x = input(\"enter a number: \")\n",
        "y = input(\"enter a second number: \")\n",
        "print (x+y)"
      ]
    },
    {
      "cell_type": "code",
      "source": [
        "x = int(input(\"enter a number: \"))\n",
        "y = int(input(\"enter a second number: \"))\n",
        "print (x+y)"
      ],
      "metadata": {
        "colab": {
          "base_uri": "https://localhost:8080/"
        },
        "id": "S95Bhd_pKKVd",
        "outputId": "58a47138-322f-4d33-fa8d-29a02235ac0c"
      },
      "execution_count": null,
      "outputs": [
        {
          "output_type": "stream",
          "name": "stdout",
          "text": [
            "enter a number: 5\n",
            "enter a second number: 9\n",
            "14\n"
          ]
        }
      ]
    },
    {
      "cell_type": "code",
      "source": [],
      "metadata": {
        "id": "jwJTrh3kLc2h"
      },
      "execution_count": null,
      "outputs": []
    },
    {
      "cell_type": "code",
      "source": [
        "x = float(input(\"enter a number: \"))\n",
        "y = int(input(\"enter a second number: \"))\n",
        "print (\"Result is\",x+y)"
      ],
      "metadata": {
        "colab": {
          "base_uri": "https://localhost:8080/"
        },
        "id": "oSGvaYRdKUSQ",
        "outputId": "79d2a316-4cbc-4b95-af85-932ece6e790a"
      },
      "execution_count": null,
      "outputs": [
        {
          "output_type": "stream",
          "name": "stdout",
          "text": [
            "enter a number: 4\n",
            "enter a second number: 8\n",
            "Result is 12.0\n"
          ]
        }
      ]
    },
    {
      "cell_type": "code",
      "source": [
        "# Create a program, ask the user to give you 3 integers\n",
        "# Then find the product of the value (a*b*c)\n",
        "# 1 2 3\n",
        "# Print the result in the form The product is: 6\n",
        "a=int(input(\"Enter a number: \"))\n",
        "b=int(input(\"Enter a number: \"))\n",
        "c=int(input(\"Enter a number: \"))\n",
        "\n",
        "print(\"The product is:\", a*b*c)\n"
      ],
      "metadata": {
        "colab": {
          "base_uri": "https://localhost:8080/"
        },
        "id": "qh5yU_f4KZst",
        "outputId": "8650f731-2402-4d79-e92e-efcf5789fe06"
      },
      "execution_count": null,
      "outputs": [
        {
          "output_type": "stream",
          "name": "stdout",
          "text": [
            "Enter a number: 2\n",
            "Enter a number: 8\n",
            "Enter a number: 9\n",
            "The product is: 144\n"
          ]
        }
      ]
    },
    {
      "cell_type": "code",
      "source": [
        "# Ask the user to enter two numbers\n",
        "# Divide the number (float)\n",
        "# a\n",
        "# b\n",
        "# a/b\n",
        "a=float(input(\"Enter a number: \"))\n",
        "b=float(input(\"Enter a number: \"))\n",
        "print(a/b)"
      ],
      "metadata": {
        "colab": {
          "base_uri": "https://localhost:8080/"
        },
        "id": "Ce34NP57Leqf",
        "outputId": "e61f35a8-b540-4ece-ba7b-dfaa9187e784"
      },
      "execution_count": null,
      "outputs": [
        {
          "output_type": "stream",
          "name": "stdout",
          "text": [
            "Enter a number: 6\n",
            "Enter a number: 72\n",
            "0.08333333333333333\n"
          ]
        }
      ]
    },
    {
      "cell_type": "code",
      "source": [
        "x = float(input(\"Enter a number\"))\n",
        "y = float(input(\"Enter a number\"))\n",
        "\n",
        "if y==0:\n",
        "  print(\"I cannot divide\")\n",
        "else:\n",
        "  print(x/y)"
      ],
      "metadata": {
        "colab": {
          "base_uri": "https://localhost:8080/"
        },
        "id": "hicxauKSMUEs",
        "outputId": "54536a80-1f92-4aa6-a5ce-2bc8b661e563"
      },
      "execution_count": null,
      "outputs": [
        {
          "output_type": "stream",
          "name": "stdout",
          "text": [
            "Enter a number56\n",
            "Enter a number0\n",
            "I cannot divide\n"
          ]
        }
      ]
    },
    {
      "cell_type": "code",
      "source": [
        "city = input(\"Enter a city: \")\n",
        "\n",
        "if city==\"Paris\":\n",
        "  print(\"Bonjour\")\n",
        "else:\n",
        "  print(\"Hi\")"
      ],
      "metadata": {
        "colab": {
          "base_uri": "https://localhost:8080/"
        },
        "id": "tWsNjHvNNTdH",
        "outputId": "7de97132-67b4-4cc9-fea2-d55b8b77562a"
      },
      "execution_count": null,
      "outputs": [
        {
          "output_type": "stream",
          "name": "stdout",
          "text": [
            "Enter a city: Paris\n",
            "Bonjour\n"
          ]
        }
      ]
    },
    {
      "cell_type": "code",
      "source": [
        "city = input(\"Enter a city: \")\n",
        "\n",
        "if city==\"Paris\":\n",
        "  print(\"Bonjour\")\n",
        "  print(10)\n",
        "else:\n",
        "  print(\"Hi\")\n",
        "  print(100)"
      ],
      "metadata": {
        "colab": {
          "base_uri": "https://localhost:8080/"
        },
        "id": "lAIPrtbDN14Z",
        "outputId": "60062562-5f5c-4e3a-a0f4-da5990896e11"
      },
      "execution_count": null,
      "outputs": [
        {
          "output_type": "stream",
          "name": "stdout",
          "text": [
            "Enter a city: Madrid\n",
            "Hi\n",
            "100\n"
          ]
        }
      ]
    },
    {
      "cell_type": "markdown",
      "source": [
        "Exercise 1\n",
        "\n",
        "Create a program to ask the user their name and their age.\n",
        "If the user is over 18, then print you are an adult. If the user is less than 18, print you are a kid!"
      ],
      "metadata": {
        "id": "Rt8PfWORR2-U"
      }
    },
    {
      "cell_type": "code",
      "source": [
        "name = input(\"Enter your name: \")\n",
        "age = int(input(\"Enter your age: \"))\n",
        "\n",
        "if age>18:\n",
        "  print(\"You are an adult\")\n",
        "else:\n",
        "  print(\"You are a kid!\")\n"
      ],
      "metadata": {
        "colab": {
          "base_uri": "https://localhost:8080/"
        },
        "id": "ppYgT66USQi3",
        "outputId": "a58acd44-d8cf-4168-c9cb-45dc33e0dbf6"
      },
      "execution_count": null,
      "outputs": [
        {
          "output_type": "stream",
          "name": "stdout",
          "text": [
            "Enter your name: Adele\n",
            "Enter your age: 20\n",
            "You are an adult\n"
          ]
        }
      ]
    },
    {
      "cell_type": "code",
      "source": [
        "#  <  >  <=  >=  not equal: !="
      ],
      "metadata": {
        "id": "ZlTm0oPRT2u1"
      },
      "execution_count": null,
      "outputs": []
    },
    {
      "cell_type": "markdown",
      "source": [
        "Create a program, ask the user to enter two numbers.\n",
        "Print the maximum number."
      ],
      "metadata": {
        "id": "ljsdjcZfUiII"
      }
    },
    {
      "cell_type": "code",
      "source": [
        "x = float(input(\"Enter a number: \"))\n",
        "y = float(input(\"Enter a number: \"))\n",
        "\n",
        "if x<y:\n",
        "  print(y)\n",
        "else:\n",
        "  print(x)"
      ],
      "metadata": {
        "colab": {
          "base_uri": "https://localhost:8080/"
        },
        "id": "Epv8NiXDUsRP",
        "outputId": "a4b80acb-e2c5-4493-e50d-f001811d98c6"
      },
      "execution_count": null,
      "outputs": [
        {
          "output_type": "stream",
          "name": "stdout",
          "text": [
            "Enter a number: 6\n",
            "Enter a number: 9\n",
            "9.0\n"
          ]
        }
      ]
    },
    {
      "cell_type": "code",
      "source": [
        "x = 10\n",
        "y = 20\n",
        "\n",
        "if x>y:\n",
        "  print(\"x is greater than y\")\n",
        "elif x<y:\n",
        "  print(\"x is less than y\")\n",
        "else:\n",
        "  print(\"x is equal to y\")"
      ],
      "metadata": {
        "colab": {
          "base_uri": "https://localhost:8080/"
        },
        "id": "w2Dv_s4vV5BZ",
        "outputId": "40800b7d-21c4-40b7-cfdc-79531549bb2c"
      },
      "execution_count": null,
      "outputs": [
        {
          "output_type": "stream",
          "name": "stdout",
          "text": [
            "x is less than y\n"
          ]
        }
      ]
    },
    {
      "cell_type": "markdown",
      "source": [
        "Create a program to ask the user to enter a score.\n",
        "If the score is less than 50 you failed.\n",
        "If the score is between 50 and 70 is pass.\n",
        "If the score is greater than 70 is distinction."
      ],
      "metadata": {
        "id": "CM368YdFWaD-"
      }
    },
    {
      "cell_type": "code",
      "source": [
        "score = int(input(\"Enter a score: \"))\n",
        "\n",
        "if score<50:\n",
        "  print(\"Fail\")\n",
        "elif score>=50 and score<70:\n",
        "  print(\"Pass\")\n",
        "else:\n",
        "  print(\"Distinction\")"
      ],
      "metadata": {
        "colab": {
          "base_uri": "https://localhost:8080/"
        },
        "id": "T24Ps1XuWw2M",
        "outputId": "fc22c7fd-74dc-44e2-9ef1-4431ae02a326"
      },
      "execution_count": null,
      "outputs": [
        {
          "output_type": "stream",
          "name": "stdout",
          "text": [
            "Enter a score: 56\n",
            "Pass\n"
          ]
        }
      ]
    },
    {
      "cell_type": "code",
      "source": [
        "score = int(input(\"Enter a score: \"))\n",
        "\n",
        "if score >0 and score<50:\n",
        "  print(\"Fail\")\n",
        "elif score>=50 and score<70:\n",
        "  print(\"Pass\")\n",
        "elif score>=70 and score<=100:\n",
        "  print(\"Distinction\")\n",
        "else:\n",
        "  print(\"Something is wrong!\")"
      ],
      "metadata": {
        "colab": {
          "base_uri": "https://localhost:8080/"
        },
        "id": "tkB2PLH6XyXu",
        "outputId": "efdece64-6507-4991-e285-64c748209de0"
      },
      "execution_count": null,
      "outputs": [
        {
          "output_type": "stream",
          "name": "stdout",
          "text": [
            "Enter a score: 876\n",
            "Something is wrong!\n"
          ]
        }
      ]
    },
    {
      "cell_type": "markdown",
      "source": [
        "Lecture 2:"
      ],
      "metadata": {
        "id": "GDP3fRn0odbP"
      }
    },
    {
      "cell_type": "code",
      "source": [
        "name = input(\"What is your name? \")\n",
        "print(\"hi\",name)"
      ],
      "metadata": {
        "colab": {
          "base_uri": "https://localhost:8080/"
        },
        "id": "WhprMrLlofqP",
        "outputId": "56a53404-d33e-472e-db31-b6fa1d31c361"
      },
      "execution_count": null,
      "outputs": [
        {
          "output_type": "stream",
          "name": "stdout",
          "text": [
            "What is your name? Tom\n",
            "hi Tom\n"
          ]
        }
      ]
    },
    {
      "cell_type": "code",
      "source": [
        "num = float(input(\"Enter a number: \"))\n",
        "if num>0:\n",
        "  print (\"positive\")\n",
        "else:\n",
        "  print(\"negative\")\n"
      ],
      "metadata": {
        "colab": {
          "base_uri": "https://localhost:8080/"
        },
        "id": "QuX52EMdo9pT",
        "outputId": "f93c850f-a53d-4062-a188-e5ed320858ff"
      },
      "execution_count": null,
      "outputs": [
        {
          "output_type": "stream",
          "name": "stdout",
          "text": [
            "Enter a number: 4567\n",
            "positive\n"
          ]
        }
      ]
    },
    {
      "cell_type": "code",
      "source": [
        "x=int(input(\"Enter a number: \"))\n",
        "y=int(input(\"Enter a number: \"))\n",
        "operation=input(\"Enter an operation (+,-,*,/,**): \")\n",
        "\n",
        "if operation==\"+\":\n",
        "  print(x+y)\n",
        "elif operation==\"-\":\n",
        "  print(x-y)\n",
        "elif operation==\"*\":\n",
        "  print(x*y)\n",
        "elif operation==\"/\" and y!=0:\n",
        "  print(x/y)\n",
        "elif operation==\"**\":\n",
        "  print(x**y)\n",
        "else:\n",
        "  print(\"I do not support this operation!\")"
      ],
      "metadata": {
        "colab": {
          "base_uri": "https://localhost:8080/"
        },
        "id": "HaEh2SLdpSTX",
        "outputId": "df849884-4112-45a8-920b-741657327ccc"
      },
      "execution_count": null,
      "outputs": [
        {
          "output_type": "stream",
          "name": "stdout",
          "text": [
            "Enter a number: 4\n",
            "Enter a number: 2\n",
            "Enter an operation (+,-,*,/,**): **\n",
            "16\n"
          ]
        }
      ]
    },
    {
      "cell_type": "markdown",
      "source": [
        "Ask the user to enter a number.\n",
        "If the number is between 0 and 1 print the percentage of the number.\n",
        "If any other case print, please enter a number between 0 and 1."
      ],
      "metadata": {
        "id": "pkqZS2yQr7Q4"
      }
    },
    {
      "cell_type": "code",
      "source": [
        "num=float(input(\"Enter a number: \"))\n",
        "if num>=0 and num<=1:\n",
        "  print(\"Percentage is\",num*100,\"%\")\n",
        "else:\n",
        "  print (\"I cannot do it!\")"
      ],
      "metadata": {
        "colab": {
          "base_uri": "https://localhost:8080/"
        },
        "id": "uJWyh_7SsMwP",
        "outputId": "5f13c947-b25f-4c5b-d5a0-96dc1b99de67"
      },
      "execution_count": null,
      "outputs": [
        {
          "output_type": "stream",
          "name": "stdout",
          "text": [
            "Enter a number: 0.4\n",
            "Percentage is 40.0 %\n"
          ]
        }
      ]
    },
    {
      "cell_type": "code",
      "source": [
        "text=\"My name is Stelios and I live in London\"\n",
        "print(text[4])"
      ],
      "metadata": {
        "colab": {
          "base_uri": "https://localhost:8080/"
        },
        "id": "dJ6ysMStttm4",
        "outputId": "c4d2aa04-9845-437f-e4b6-5906baae6071"
      },
      "execution_count": null,
      "outputs": [
        {
          "output_type": "stream",
          "name": "stdout",
          "text": [
            "a\n"
          ]
        }
      ]
    },
    {
      "cell_type": "code",
      "source": [
        "text=\"My name is Stelios and I live in London\"\n",
        "print(text[-1])"
      ],
      "metadata": {
        "colab": {
          "base_uri": "https://localhost:8080/"
        },
        "id": "0EHbt5CIuZ5L",
        "outputId": "e7848622-3eb0-44c5-d66a-d664dffe2dd6"
      },
      "execution_count": null,
      "outputs": [
        {
          "output_type": "stream",
          "name": "stdout",
          "text": [
            "n\n"
          ]
        }
      ]
    },
    {
      "cell_type": "code",
      "source": [
        "city=\"London\"\n",
        "print(city[0:3])"
      ],
      "metadata": {
        "colab": {
          "base_uri": "https://localhost:8080/"
        },
        "id": "licFOFyquww0",
        "outputId": "2f07f86a-50c0-451b-ee8d-6cb1d3c332f0"
      },
      "execution_count": null,
      "outputs": [
        {
          "output_type": "stream",
          "name": "stdout",
          "text": [
            "Lon\n"
          ]
        }
      ]
    },
    {
      "cell_type": "code",
      "source": [
        "text=\"My name is Stelios and I live in London\"\n",
        "print(text[-6:])"
      ],
      "metadata": {
        "colab": {
          "base_uri": "https://localhost:8080/"
        },
        "id": "6DJ5OYgUvcGx",
        "outputId": "489b42ea-fd6e-41a1-c275-363aa723d6a8"
      },
      "execution_count": null,
      "outputs": [
        {
          "output_type": "stream",
          "name": "stdout",
          "text": [
            "London\n"
          ]
        }
      ]
    },
    {
      "cell_type": "markdown",
      "source": [
        "Ask the user to enter a city.\n",
        "If the user enter a city starting with L capital, print \"Starts with L capital\" else print something else."
      ],
      "metadata": {
        "id": "JBjDy3FUw8BT"
      }
    },
    {
      "cell_type": "code",
      "source": [
        "city=input(\"Enter a city: \")\n",
        "if city[0]==\"L\":\n",
        "  print(\"Starts with L capital\")\n",
        "else:\n",
        "  print (\"bdjsksd\")"
      ],
      "metadata": {
        "colab": {
          "base_uri": "https://localhost:8080/"
        },
        "id": "JCOMQMn6xNGg",
        "outputId": "4f641105-e4d5-46c2-d464-eb585c84998d"
      },
      "execution_count": null,
      "outputs": [
        {
          "output_type": "stream",
          "name": "stdout",
          "text": [
            "Enter a city: Lyon\n",
            "Starts with L capital\n"
          ]
        }
      ]
    },
    {
      "cell_type": "markdown",
      "source": [
        "Ask the user to enter a phrase.\n",
        "If the phrae doesnt finish with dot (.) say you need a dot! else say all good!"
      ],
      "metadata": {
        "id": "nXwDPPGjx-vG"
      }
    },
    {
      "cell_type": "code",
      "source": [
        "phrase=input(\"Enter a phrase: \")\n",
        "if phrase[-1]!=\".\":\n",
        "  print(\"You need a dot!\")\n",
        "else:\n",
        "  print(\"all good!\")"
      ],
      "metadata": {
        "colab": {
          "base_uri": "https://localhost:8080/"
        },
        "id": "GSiv9nrWyMSf",
        "outputId": "9d55b1de-d081-4655-b784-6308f3127e1d"
      },
      "execution_count": null,
      "outputs": [
        {
          "output_type": "stream",
          "name": "stdout",
          "text": [
            "Enter a phrase: gsdoqh hed jijd.\n",
            "all good!\n"
          ]
        }
      ]
    }
  ]
}