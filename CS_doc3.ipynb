{
  "nbformat": 4,
  "nbformat_minor": 0,
  "metadata": {
    "colab": {
      "provenance": []
    },
    "kernelspec": {
      "name": "python3",
      "display_name": "Python 3"
    },
    "language_info": {
      "name": "python"
    }
  },
  "cells": [
    {
      "cell_type": "code",
      "execution_count": 1,
      "metadata": {
        "colab": {
          "base_uri": "https://localhost:8080/"
        },
        "id": "6v2V2k3KslOy",
        "outputId": "89c5ed60-92d0-44d2-fa20-ae36c394bbc9"
      },
      "outputs": [
        {
          "output_type": "stream",
          "name": "stdout",
          "text": [
            "Enter a number: 4\n",
            "Positive\n"
          ]
        }
      ],
      "source": [
        "num=int(input(\"Enter a number: \"))\n",
        "if num>0:\n",
        "  print(\"Positive\")\n",
        "else:\n",
        "  print(\"Negative or zero\")"
      ]
    },
    {
      "cell_type": "code",
      "source": [
        "num=int(input(\"Enter a number: \"))\n",
        "if num>0:\n",
        "  positive=True\n",
        "else:\n",
        "  positive=False\n",
        "print(\"is positive?\", positive)"
      ],
      "metadata": {
        "colab": {
          "base_uri": "https://localhost:8080/"
        },
        "id": "z_zGJSaZ4-iP",
        "outputId": "e8dd1805-2c08-4457-89a4-5e7c80d84d1e"
      },
      "execution_count": 4,
      "outputs": [
        {
          "output_type": "stream",
          "name": "stdout",
          "text": [
            "Enter a number: 55\n",
            "is positive? True\n"
          ]
        }
      ]
    },
    {
      "cell_type": "code",
      "source": [
        "print(positive)"
      ],
      "metadata": {
        "colab": {
          "base_uri": "https://localhost:8080/"
        },
        "id": "DAV5vWh15JvU",
        "outputId": "b06a35a1-86ee-47a3-f66a-cd9fb736a92e"
      },
      "execution_count": 3,
      "outputs": [
        {
          "output_type": "stream",
          "name": "stdout",
          "text": [
            "True\n"
          ]
        }
      ]
    },
    {
      "cell_type": "markdown",
      "source": [
        "* if age < 18 you cannot watch film\n",
        "* if age >= 18, you can watch it\n",
        "* if you are over 60 you are a senior and you have a discount\n"
      ],
      "metadata": {
        "id": "9u4XokqP5cW2"
      }
    },
    {
      "cell_type": "code",
      "source": [
        "age = int(input(\"Enter age: \"))\n",
        "if age <18:\n",
        "  watch = False\n",
        "else:\n",
        "  watch = True\n",
        "\n",
        "if age>=60:\n",
        "  senior=True\n",
        "else:\n",
        "  senior=False\n",
        "print(age,watch,senior)\n"
      ],
      "metadata": {
        "colab": {
          "base_uri": "https://localhost:8080/"
        },
        "id": "wG30a84n5uNq",
        "outputId": "d666e173-9c9b-43d1-8249-f3e8cfddfc90"
      },
      "execution_count": 5,
      "outputs": [
        {
          "output_type": "stream",
          "name": "stdout",
          "text": [
            "Enter age: 45\n",
            "45 True False\n"
          ]
        }
      ]
    },
    {
      "cell_type": "markdown",
      "source": [
        "* if your score is less than 10, you fail\n",
        "* if 10-20, you pass\n",
        "* if >15 distinction\n",
        "If you get a distinction you get an award!"
      ],
      "metadata": {
        "id": "LjMf7g446eY_"
      }
    },
    {
      "cell_type": "code",
      "source": [
        "score=int(input(\"Enter a score: \"))\n",
        "\n",
        "if score<10:\n",
        "  fail=True\n",
        "else:\n",
        "  fail=False\n",
        "\n",
        "if score>=15:\n",
        "  distinction=True\n",
        "else:\n",
        "  distinction=False\n",
        "\n",
        "print(score,fail,distinction)"
      ],
      "metadata": {
        "colab": {
          "base_uri": "https://localhost:8080/"
        },
        "id": "VyWjJFaT6wQK",
        "outputId": "3518bfd0-5a13-4e51-8f6c-b7b41b179f3d"
      },
      "execution_count": 6,
      "outputs": [
        {
          "output_type": "stream",
          "name": "stdout",
          "text": [
            "Enter a score: 17\n",
            "17 False True\n"
          ]
        }
      ]
    },
    {
      "cell_type": "markdown",
      "source": [
        "* if temp < 20 you turn on the heat\n",
        "* if the heat is on, you close the window\n",
        "* if the windows are closed, turn on the ventilation"
      ],
      "metadata": {
        "id": "TSV4wnZ345ZG"
      }
    },
    {
      "cell_type": "code",
      "source": [
        "temp=int(input(\"Enter a temp: \"))\n",
        "\n",
        "if temp<20:\n",
        "  heat=True\n",
        "else:\n",
        "  heat=False\n",
        "\n",
        "if heat==True:\n",
        "   closed_windows=True\n",
        "else:\n",
        "   closed_windows=False\n",
        "\n",
        "if closed_windows==True:\n",
        "   ventilation=True\n",
        "else:\n",
        "  ventilation=False\n",
        "print(temp,heat,closed_windows,ventilation)\n"
      ],
      "metadata": {
        "colab": {
          "base_uri": "https://localhost:8080/"
        },
        "id": "5i8P5Q9l7ltY",
        "outputId": "c99e563d-8a74-4c24-b1a6-cd48e7272811"
      },
      "execution_count": 7,
      "outputs": [
        {
          "output_type": "stream",
          "name": "stdout",
          "text": [
            "Enter a temp: 13\n",
            "13 True True True\n"
          ]
        }
      ]
    },
    {
      "cell_type": "code",
      "source": [
        "student=['Mary','Tom','Stelios','Kate']\n",
        "score=[15,12,9,18]\n",
        "\n",
        "print(student[0:2])\n",
        "print(score)"
      ],
      "metadata": {
        "colab": {
          "base_uri": "https://localhost:8080/"
        },
        "id": "-dmjLv0U9W4B",
        "outputId": "83f5c68d-7f47-4934-8a13-d9e1457b4617"
      },
      "execution_count": 10,
      "outputs": [
        {
          "output_type": "stream",
          "name": "stdout",
          "text": [
            "['Mary', 'Tom']\n",
            "[15, 12, 9, 18]\n"
          ]
        }
      ]
    },
    {
      "cell_type": "code",
      "source": [
        "score[0]\n",
        "score[1:3]"
      ],
      "metadata": {
        "colab": {
          "base_uri": "https://localhost:8080/"
        },
        "id": "k8cceoyX-zXm",
        "outputId": "546c6ef3-b6a0-4cfc-a9de-02a7ff75ce1f"
      },
      "execution_count": 12,
      "outputs": [
        {
          "output_type": "execute_result",
          "data": {
            "text/plain": [
              "[12, 9]"
            ]
          },
          "metadata": {},
          "execution_count": 12
        }
      ]
    },
    {
      "cell_type": "code",
      "source": [
        "numbers=[10,20,30,40,50,60,70,80,90]\n",
        "\n",
        "print(numbers[1])\n",
        "print(numbers[7])\n",
        "print(numbers[0:3])\n",
        "print(numbers[-3:])\n",
        "print(numbers[4:6])"
      ],
      "metadata": {
        "colab": {
          "base_uri": "https://localhost:8080/"
        },
        "id": "ckwWdZq0_ABW",
        "outputId": "0bc0bde5-47cb-409f-c13d-31fb85bdfd96"
      },
      "execution_count": 22,
      "outputs": [
        {
          "output_type": "stream",
          "name": "stdout",
          "text": [
            "20\n",
            "80\n",
            "[10, 20, 30]\n",
            "[70, 80, 90]\n",
            "[50, 60]\n"
          ]
        }
      ]
    }
  ]
}